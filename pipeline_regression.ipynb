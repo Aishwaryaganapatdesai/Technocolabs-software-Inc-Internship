{
 "cells": [
  {
   "cell_type": "code",
   "execution_count": 1,
   "id": "2093fce5",
   "metadata": {},
   "outputs": [],
   "source": [
    "import numpy as np # linear algebra\n",
    "import pandas as pd # data processing, CSV file I/O (e.g. pd.read_csv)\n",
    "# To display all the columns of dataframe\n",
    "pd.set_option('display.max_columns', 500)\n",
    "pd.set_option('display.max_rows', 500)\n",
    "import warnings\n",
    "warnings.filterwarnings(\"ignore\")"
   ]
  },
  {
   "cell_type": "code",
   "execution_count": 2,
   "id": "a70f4889",
   "metadata": {},
   "outputs": [],
   "source": [
    "df = pd.read_csv(r\"C:\\Users\\vibgyors computer\\OneDrive\\Desktop\\Project\\Technocolabs\\Mortage backed loan\\regression data.csv\", low_memory=False,)"
   ]
  },
  {
   "cell_type": "code",
   "execution_count": 3,
   "id": "4b27df34",
   "metadata": {},
   "outputs": [
    {
     "data": {
      "text/html": [
       "<div>\n",
       "<style scoped>\n",
       "    .dataframe tbody tr th:only-of-type {\n",
       "        vertical-align: middle;\n",
       "    }\n",
       "\n",
       "    .dataframe tbody tr th {\n",
       "        vertical-align: top;\n",
       "    }\n",
       "\n",
       "    .dataframe thead th {\n",
       "        text-align: right;\n",
       "    }\n",
       "</style>\n",
       "<table border=\"1\" class=\"dataframe\">\n",
       "  <thead>\n",
       "    <tr style=\"text-align: right;\">\n",
       "      <th></th>\n",
       "      <th>DTI</th>\n",
       "      <th>PPM</th>\n",
       "      <th>NumBorrowers</th>\n",
       "      <th>ServicerName</th>\n",
       "      <th>EverDelinquent</th>\n",
       "      <th>IsFirstTimeHomebuyer</th>\n",
       "      <th>CreditRange</th>\n",
       "      <th>monthly_income</th>\n",
       "      <th>prepayment</th>\n",
       "    </tr>\n",
       "  </thead>\n",
       "  <tbody>\n",
       "    <tr>\n",
       "      <th>0</th>\n",
       "      <td>27</td>\n",
       "      <td>N</td>\n",
       "      <td>2</td>\n",
       "      <td>WASHINGTONMUTUALBANK</td>\n",
       "      <td>0</td>\n",
       "      <td>0</td>\n",
       "      <td>Poor</td>\n",
       "      <td>2800.0</td>\n",
       "      <td>15387.36</td>\n",
       "    </tr>\n",
       "    <tr>\n",
       "      <th>1</th>\n",
       "      <td>17</td>\n",
       "      <td>N</td>\n",
       "      <td>1</td>\n",
       "      <td>CHASEHOMEFINANCELLC</td>\n",
       "      <td>0</td>\n",
       "      <td>0</td>\n",
       "      <td>Poor</td>\n",
       "      <td>4000.0</td>\n",
       "      <td>31465.20</td>\n",
       "    </tr>\n",
       "    <tr>\n",
       "      <th>2</th>\n",
       "      <td>16</td>\n",
       "      <td>N</td>\n",
       "      <td>2</td>\n",
       "      <td>WASHINGTONMUTUALBANK</td>\n",
       "      <td>0</td>\n",
       "      <td>0</td>\n",
       "      <td>Poor</td>\n",
       "      <td>3600.0</td>\n",
       "      <td>29325.60</td>\n",
       "    </tr>\n",
       "    <tr>\n",
       "      <th>3</th>\n",
       "      <td>14</td>\n",
       "      <td>N</td>\n",
       "      <td>2</td>\n",
       "      <td>GMACMTGECORP</td>\n",
       "      <td>0</td>\n",
       "      <td>0</td>\n",
       "      <td>Poor</td>\n",
       "      <td>7500.0</td>\n",
       "      <td>64773.84</td>\n",
       "    </tr>\n",
       "    <tr>\n",
       "      <th>4</th>\n",
       "      <td>18</td>\n",
       "      <td>N</td>\n",
       "      <td>2</td>\n",
       "      <td>GMACMTGECORP</td>\n",
       "      <td>0</td>\n",
       "      <td>0</td>\n",
       "      <td>Poor</td>\n",
       "      <td>4000.0</td>\n",
       "      <td>30375.60</td>\n",
       "    </tr>\n",
       "  </tbody>\n",
       "</table>\n",
       "</div>"
      ],
      "text/plain": [
       "   DTI PPM  NumBorrowers          ServicerName  EverDelinquent  \\\n",
       "0   27   N             2  WASHINGTONMUTUALBANK               0   \n",
       "1   17   N             1  CHASEHOMEFINANCELLC                0   \n",
       "2   16   N             2  WASHINGTONMUTUALBANK               0   \n",
       "3   14   N             2  GMACMTGECORP                       0   \n",
       "4   18   N             2  GMACMTGECORP                       0   \n",
       "\n",
       "   IsFirstTimeHomebuyer CreditRange  monthly_income  prepayment  \n",
       "0                     0        Poor          2800.0    15387.36  \n",
       "1                     0        Poor          4000.0    31465.20  \n",
       "2                     0        Poor          3600.0    29325.60  \n",
       "3                     0        Poor          7500.0    64773.84  \n",
       "4                     0        Poor          4000.0    30375.60  "
      ]
     },
     "execution_count": 3,
     "metadata": {},
     "output_type": "execute_result"
    }
   ],
   "source": [
    "df.head()"
   ]
  },
  {
   "cell_type": "markdown",
   "id": "7f49a601",
   "metadata": {},
   "source": [
    "## Classification_Pipeline"
   ]
  },
  {
   "cell_type": "code",
   "execution_count": 4,
   "id": "d2e81a2e",
   "metadata": {},
   "outputs": [],
   "source": [
    "from sklearn.compose import ColumnTransformer\n",
    "from sklearn.pipeline import Pipeline,make_pipeline\n",
    "from sklearn.preprocessing import LabelEncoder\n",
    "from sklearn.multioutput import MultiOutputRegressor\n",
    "from sklearn.linear_model import LinearRegression\n",
    "from sklearn.linear_model import Ridge\n",
    "from sklearn.metrics import r2_score\n",
    "from sklearn.model_selection import train_test_split\n",
    "from sklearn.impute import SimpleImputer\n",
    "from sklearn.preprocessing import FunctionTransformer\n",
    "from sklearn.preprocessing import OneHotEncoder\n",
    "from sklearn.multioutput import MultiOutputRegressor\n",
    "from sklearn.preprocessing import StandardScaler, scale, MinMaxScaler\n",
    "from category_encoders import BinaryEncoder"
   ]
  },
  {
   "cell_type": "markdown",
   "id": "4c67beb8",
   "metadata": {},
   "source": [
    "# Regression Data"
   ]
  },
  {
   "cell_type": "markdown",
   "id": "6f7ed644",
   "metadata": {},
   "source": [
    "## Create Pipeline"
   ]
  },
  {
   "cell_type": "code",
   "execution_count": 5,
   "id": "3cacb775",
   "metadata": {},
   "outputs": [
    {
     "name": "stdout",
     "output_type": "stream",
     "text": [
      "Requirement already satisfied: category_encoders in c:\\users\\vibgyors computer\\appdata\\local\\programs\\python\\python310\\lib\\site-packages (2.6.1)\n",
      "Requirement already satisfied: statsmodels>=0.9.0 in c:\\users\\vibgyors computer\\appdata\\local\\programs\\python\\python310\\lib\\site-packages (from category_encoders) (0.14.0)\n",
      "Requirement already satisfied: pandas>=1.0.5 in c:\\users\\vibgyors computer\\appdata\\local\\programs\\python\\python310\\lib\\site-packages (from category_encoders) (1.5.3)\n",
      "Requirement already satisfied: scikit-learn>=0.20.0 in c:\\users\\vibgyors computer\\appdata\\local\\programs\\python\\python310\\lib\\site-packages (from category_encoders) (1.2.2)\n",
      "Requirement already satisfied: numpy>=1.14.0 in c:\\users\\vibgyors computer\\appdata\\local\\programs\\python\\python310\\lib\\site-packages (from category_encoders) (1.24.1)\n",
      "Requirement already satisfied: patsy>=0.5.1 in c:\\users\\vibgyors computer\\appdata\\local\\programs\\python\\python310\\lib\\site-packages (from category_encoders) (0.5.3)\n",
      "Requirement already satisfied: scipy>=1.0.0 in c:\\users\\vibgyors computer\\appdata\\local\\programs\\python\\python310\\lib\\site-packages (from category_encoders) (1.10.1)\n",
      "Requirement already satisfied: pytz>=2020.1 in c:\\users\\vibgyors computer\\appdata\\local\\programs\\python\\python310\\lib\\site-packages (from pandas>=1.0.5->category_encoders) (2022.2.1)\n",
      "Requirement already satisfied: python-dateutil>=2.8.1 in c:\\users\\vibgyors computer\\appdata\\local\\programs\\python\\python310\\lib\\site-packages (from pandas>=1.0.5->category_encoders) (2.8.2)\n",
      "Requirement already satisfied: six in c:\\users\\vibgyors computer\\appdata\\local\\programs\\python\\python310\\lib\\site-packages (from patsy>=0.5.1->category_encoders) (1.16.0)\n",
      "Requirement already satisfied: joblib>=1.1.1 in c:\\users\\vibgyors computer\\appdata\\local\\programs\\python\\python310\\lib\\site-packages (from scikit-learn>=0.20.0->category_encoders) (1.2.0)\n",
      "Requirement already satisfied: threadpoolctl>=2.0.0 in c:\\users\\vibgyors computer\\appdata\\local\\programs\\python\\python310\\lib\\site-packages (from scikit-learn>=0.20.0->category_encoders) (3.1.0)\n",
      "Requirement already satisfied: packaging>=21.3 in c:\\users\\vibgyors computer\\appdata\\local\\programs\\python\\python310\\lib\\site-packages (from statsmodels>=0.9.0->category_encoders) (21.3)\n",
      "Requirement already satisfied: pyparsing!=3.0.5,>=2.0.2 in c:\\users\\vibgyors computer\\appdata\\local\\programs\\python\\python310\\lib\\site-packages (from packaging>=21.3->statsmodels>=0.9.0->category_encoders) (3.0.9)\n",
      "Note: you may need to restart the kernel to use updated packages.\n"
     ]
    },
    {
     "name": "stderr",
     "output_type": "stream",
     "text": [
      "\n",
      "[notice] A new release of pip available: 22.2.1 -> 23.2\n",
      "[notice] To update, run: C:\\Users\\vibgyors computer\\AppData\\Local\\Programs\\Python\\Python310\\python.exe -m pip install --upgrade pip\n"
     ]
    }
   ],
   "source": [
    "pip install category_encoders"
   ]
  },
  {
   "cell_type": "code",
   "execution_count": 6,
   "id": "93270c82",
   "metadata": {},
   "outputs": [
    {
     "data": {
      "text/html": [
       "<div>\n",
       "<style scoped>\n",
       "    .dataframe tbody tr th:only-of-type {\n",
       "        vertical-align: middle;\n",
       "    }\n",
       "\n",
       "    .dataframe tbody tr th {\n",
       "        vertical-align: top;\n",
       "    }\n",
       "\n",
       "    .dataframe thead th {\n",
       "        text-align: right;\n",
       "    }\n",
       "</style>\n",
       "<table border=\"1\" class=\"dataframe\">\n",
       "  <thead>\n",
       "    <tr style=\"text-align: right;\">\n",
       "      <th></th>\n",
       "      <th>DTI</th>\n",
       "      <th>PPM</th>\n",
       "      <th>NumBorrowers</th>\n",
       "      <th>ServicerName</th>\n",
       "      <th>EverDelinquent</th>\n",
       "      <th>IsFirstTimeHomebuyer</th>\n",
       "      <th>CreditRange</th>\n",
       "      <th>monthly_income</th>\n",
       "      <th>prepayment</th>\n",
       "    </tr>\n",
       "  </thead>\n",
       "  <tbody>\n",
       "    <tr>\n",
       "      <th>0</th>\n",
       "      <td>27</td>\n",
       "      <td>N</td>\n",
       "      <td>2</td>\n",
       "      <td>WASHINGTONMUTUALBANK</td>\n",
       "      <td>0</td>\n",
       "      <td>0</td>\n",
       "      <td>Poor</td>\n",
       "      <td>2800.0</td>\n",
       "      <td>15387.36</td>\n",
       "    </tr>\n",
       "    <tr>\n",
       "      <th>1</th>\n",
       "      <td>17</td>\n",
       "      <td>N</td>\n",
       "      <td>1</td>\n",
       "      <td>CHASEHOMEFINANCELLC</td>\n",
       "      <td>0</td>\n",
       "      <td>0</td>\n",
       "      <td>Poor</td>\n",
       "      <td>4000.0</td>\n",
       "      <td>31465.20</td>\n",
       "    </tr>\n",
       "    <tr>\n",
       "      <th>2</th>\n",
       "      <td>16</td>\n",
       "      <td>N</td>\n",
       "      <td>2</td>\n",
       "      <td>WASHINGTONMUTUALBANK</td>\n",
       "      <td>0</td>\n",
       "      <td>0</td>\n",
       "      <td>Poor</td>\n",
       "      <td>3600.0</td>\n",
       "      <td>29325.60</td>\n",
       "    </tr>\n",
       "    <tr>\n",
       "      <th>3</th>\n",
       "      <td>14</td>\n",
       "      <td>N</td>\n",
       "      <td>2</td>\n",
       "      <td>GMACMTGECORP</td>\n",
       "      <td>0</td>\n",
       "      <td>0</td>\n",
       "      <td>Poor</td>\n",
       "      <td>7500.0</td>\n",
       "      <td>64773.84</td>\n",
       "    </tr>\n",
       "    <tr>\n",
       "      <th>4</th>\n",
       "      <td>18</td>\n",
       "      <td>N</td>\n",
       "      <td>2</td>\n",
       "      <td>GMACMTGECORP</td>\n",
       "      <td>0</td>\n",
       "      <td>0</td>\n",
       "      <td>Poor</td>\n",
       "      <td>4000.0</td>\n",
       "      <td>30375.60</td>\n",
       "    </tr>\n",
       "  </tbody>\n",
       "</table>\n",
       "</div>"
      ],
      "text/plain": [
       "   DTI PPM  NumBorrowers          ServicerName  EverDelinquent  \\\n",
       "0   27   N             2  WASHINGTONMUTUALBANK               0   \n",
       "1   17   N             1  CHASEHOMEFINANCELLC                0   \n",
       "2   16   N             2  WASHINGTONMUTUALBANK               0   \n",
       "3   14   N             2  GMACMTGECORP                       0   \n",
       "4   18   N             2  GMACMTGECORP                       0   \n",
       "\n",
       "   IsFirstTimeHomebuyer CreditRange  monthly_income  prepayment  \n",
       "0                     0        Poor          2800.0    15387.36  \n",
       "1                     0        Poor          4000.0    31465.20  \n",
       "2                     0        Poor          3600.0    29325.60  \n",
       "3                     0        Poor          7500.0    64773.84  \n",
       "4                     0        Poor          4000.0    30375.60  "
      ]
     },
     "execution_count": 6,
     "metadata": {},
     "output_type": "execute_result"
    }
   ],
   "source": [
    "df.head()"
   ]
  },
  {
   "cell_type": "code",
   "execution_count": 7,
   "id": "c290d797",
   "metadata": {},
   "outputs": [],
   "source": [
    "from sklearn.model_selection import train_test_split\n",
    "from sklearn.compose import ColumnTransformer\n",
    "from sklearn.preprocessing import StandardScaler, OneHotEncoder\n",
    "from sklearn.impute import SimpleImputer\n",
    "from sklearn.linear_model import LinearRegression\n",
    "from sklearn.multioutput import MultiOutputRegressor\n",
    "from sklearn.pipeline import Pipeline\n",
    "\n",
    "# Splitting the data into train and test sets\n",
    "IV = [\"DTI\",\"PPM\",\"NumBorrowers\",\"ServicerName\",\"EverDelinquent\",\"IsFirstTimeHomebuyer\",\"CreditRange\",\"monthly_income\",]\n",
    "X = df[IV]\n",
    "Y = df[[\"prepayment\"]]  # Ensure Y is a DataFrame\n",
    "x_train, x_test, y_train, y_test = train_test_split(X, Y, test_size=0.25, random_state=2)\n",
    "\n",
    "# Preprocessing transformers\n",
    "numeric_features = [\"DTI\",\"NumBorrowers\",\"EverDelinquent\",\"IsFirstTimeHomebuyer\",\"monthly_income\"]\n",
    "categorical_features = [\"PPM\",\"ServicerName\",\"CreditRange\"]\n",
    "\n",
    "numeric_transformer = Pipeline([\n",
    "    ('imputer', SimpleImputer(strategy='median')),\n",
    "    ('scaler', StandardScaler())\n",
    "])\n",
    "\n",
    "categorical_transformer = Pipeline([\n",
    "    ('imputer', SimpleImputer(strategy='most_frequent')),\n",
    "    ('encoder', OneHotEncoder(handle_unknown='ignore'))\n",
    "])\n",
    "\n",
    "preprocessor = ColumnTransformer([\n",
    "    ('numeric', numeric_transformer, numeric_features),\n",
    "    ('categorical', categorical_transformer, categorical_features)\n",
    "])\n",
    "\n",
    "# Create separate pipelines for each target variable\n",
    "pipelines = [\n",
    "    Pipeline([\n",
    "        ('preprocessor', preprocessor),\n",
    "        ('regressor', MultiOutputRegressor(LinearRegression()))\n",
    "    ])\n",
    "    for column in Y.columns\n",
    "]\n",
    "\n",
    "# Reshape y_train to have two dimensions\n",
    "y_train_reshaped = y_train.values.reshape(-1, len(Y.columns))\n",
    "\n",
    "# Fit the pipelines to the training data\n",
    "for pipeline, target in zip(pipelines, Y.columns):\n",
    "    pipeline.fit(x_train, y_train_reshaped)\n"
   ]
  },
  {
   "cell_type": "code",
   "execution_count": 16,
   "id": "3bc676f1",
   "metadata": {},
   "outputs": [
    {
     "name": "stdout",
     "output_type": "stream",
     "text": [
      "R-squared score for prepayment: 0.9135\n",
      "Average R-squared score: 0.9135\n"
     ]
    }
   ],
   "source": [
    "from sklearn.metrics import r2_score\n",
    "\n",
    "# Evaluate the pipelines on the test data and calculate R-squared scores\n",
    "r2_scores = []\n",
    "for pipeline, target in zip(pipelines, Y.columns):\n",
    "    y_pred = pipeline.predict(x_test)\n",
    "    y_pred_target = y_pred[:, Y.columns.get_loc(target)]  # Extract predictions for the current target variable\n",
    "    r2 = r2_score(y_test[target], y_pred_target)\n",
    "    r2_scores.append(r2)\n",
    "\n",
    "# Print the R-squared scores for each target variable\n",
    "for target, score in zip(Y.columns, r2_scores):\n",
    "    print(f\"R-squared score for {target}: {score:.4f}\")\n",
    "\n",
    "# Calculate and print the average R-squared score\n",
    "avg_r2_score = sum(r2_scores) / len(r2_scores)\n",
    "print(f\"Average R-squared score: {avg_r2_score:.4f}\")\n"
   ]
  },
  {
   "cell_type": "code",
   "execution_count": 9,
   "id": "7837d5b3",
   "metadata": {},
   "outputs": [],
   "source": [
    "# Save the model to a pickle file\n",
    "import pickle\n",
    "with open('Regression.pkl', 'wb') as file:\n",
    "    pickle.dump(pipeline, file)\n"
   ]
  },
  {
   "cell_type": "code",
   "execution_count": 13,
   "id": "24eb26bb",
   "metadata": {},
   "outputs": [
    {
     "name": "stdout",
     "output_type": "stream",
     "text": [
      "Enter the number of day rows:1\n",
      "Enter DTI:: 25\n",
      "Enter PPM:: 50\n",
      "Enter  NumBorrowers:: 2\n",
      "Enter ServicerName:: 12\n",
      "Enter EverDelinquent:: 1\n",
      "Enter IsFirstTimeHomebuyer:: 1\n",
      "Enter  CreditRange:: 25\n",
      "Enter  monthly_income:: 25600\n"
     ]
    },
    {
     "data": {
      "text/html": [
       "<div>\n",
       "<style scoped>\n",
       "    .dataframe tbody tr th:only-of-type {\n",
       "        vertical-align: middle;\n",
       "    }\n",
       "\n",
       "    .dataframe tbody tr th {\n",
       "        vertical-align: top;\n",
       "    }\n",
       "\n",
       "    .dataframe thead th {\n",
       "        text-align: right;\n",
       "    }\n",
       "</style>\n",
       "<table border=\"1\" class=\"dataframe\">\n",
       "  <thead>\n",
       "    <tr style=\"text-align: right;\">\n",
       "      <th></th>\n",
       "      <th>DTI</th>\n",
       "      <th>PPM</th>\n",
       "      <th>NumBorrowers</th>\n",
       "      <th>ServicerName</th>\n",
       "      <th>EverDelinquent</th>\n",
       "      <th>IsFirstTimeHomebuyer</th>\n",
       "      <th>CreditRange</th>\n",
       "      <th>monthly_income</th>\n",
       "    </tr>\n",
       "  </thead>\n",
       "  <tbody>\n",
       "    <tr>\n",
       "      <th>0</th>\n",
       "      <td>25</td>\n",
       "      <td>50</td>\n",
       "      <td>2</td>\n",
       "      <td>12</td>\n",
       "      <td>1</td>\n",
       "      <td>1</td>\n",
       "      <td>25</td>\n",
       "      <td>25600</td>\n",
       "    </tr>\n",
       "  </tbody>\n",
       "</table>\n",
       "</div>"
      ],
      "text/plain": [
       "  DTI PPM NumBorrowers ServicerName EverDelinquent IsFirstTimeHomebuyer  \\\n",
       "0  25  50            2           12              1                    1   \n",
       "\n",
       "  CreditRange monthly_income  \n",
       "0          25          25600  "
      ]
     },
     "execution_count": 13,
     "metadata": {},
     "output_type": "execute_result"
    }
   ],
   "source": [
    "import pandas as pd\n",
    "\n",
    "d1 = pd.DataFrame(columns=[\"DTI\",\"PPM\",\"NumBorrowers\",\"ServicerName\",\"EverDelinquent\",\"IsFirstTimeHomebuyer\",\"CreditRange\",\"monthly_income\",])\n",
    "parts = int(input(\"Enter the number of day rows:\"))\n",
    "\n",
    "for _ in range(parts):\n",
    "    a = input(\"Enter DTI:: \")\n",
    "    b = input(\"Enter PPM:: \")\n",
    "    c = input(\"Enter  NumBorrowers:: \")\n",
    "    d = input(\"Enter ServicerName:: \")\n",
    "    e = input(\"Enter EverDelinquent:: \")\n",
    "    f = input(\"Enter IsFirstTimeHomebuyer:: \")\n",
    "    g = input(\"Enter  CreditRange:: \")\n",
    "    h = input(\"Enter  monthly_income:: \")\n",
    "    \n",
    "    d2 = pd.DataFrame(data=[[a,b,c,d,e,f,g,h,]],columns=[\"DTI\",\"PPM\",\"NumBorrowers\",\"ServicerName\",\n",
    "                                                         \"EverDelinquent\",\"IsFirstTimeHomebuyer\",\"CreditRange\",\"monthly_income\",])\n",
    "    data = pd.concat([d1,d2], axis=0)\n",
    "\n",
    "data.index = range(len(data.index))\n",
    "data"
   ]
  },
  {
   "cell_type": "code",
   "execution_count": 14,
   "id": "4ad03e11",
   "metadata": {},
   "outputs": [],
   "source": [
    "# Open the model from the pickle file\n",
    "with open('Regression.pkl', 'rb') as file:\n",
    "    loaded_model = pickle.load(file)"
   ]
  },
  {
   "cell_type": "code",
   "execution_count": 15,
   "id": "39363677",
   "metadata": {},
   "outputs": [
    {
     "data": {
      "text/plain": [
       "array([[247320.81826819]])"
      ]
     },
     "execution_count": 15,
     "metadata": {},
     "output_type": "execute_result"
    }
   ],
   "source": [
    "loaded_model.predict(data)"
   ]
  },
  {
   "cell_type": "code",
   "execution_count": null,
   "id": "26d635c9",
   "metadata": {},
   "outputs": [],
   "source": []
  }
 ],
 "metadata": {
  "kernelspec": {
   "display_name": "Python 3 (ipykernel)",
   "language": "python",
   "name": "python3"
  },
  "language_info": {
   "codemirror_mode": {
    "name": "ipython",
    "version": 3
   },
   "file_extension": ".py",
   "mimetype": "text/x-python",
   "name": "python",
   "nbconvert_exporter": "python",
   "pygments_lexer": "ipython3",
   "version": "3.11.3"
  }
 },
 "nbformat": 4,
 "nbformat_minor": 5
}
